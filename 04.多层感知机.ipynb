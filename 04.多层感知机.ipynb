{
 "cells": [
  {
   "cell_type": "code",
   "execution_count": 103,
   "metadata": {},
   "outputs": [],
   "source": [
    "import torch\n",
    "import pandas as pd\n",
    "import numpy as np\n",
    "import matplotlib.pyplot as plt\n",
    "import torch.nn.functional as F\n",
    "%matplotlib inline"
   ]
  },
  {
   "cell_type": "code",
   "execution_count": 104,
   "metadata": {},
   "outputs": [
    {
     "data": {
      "text/html": [
       "<div>\n",
       "<style scoped>\n",
       "    .dataframe tbody tr th:only-of-type {\n",
       "        vertical-align: middle;\n",
       "    }\n",
       "\n",
       "    .dataframe tbody tr th {\n",
       "        vertical-align: top;\n",
       "    }\n",
       "\n",
       "    .dataframe thead th {\n",
       "        text-align: right;\n",
       "    }\n",
       "</style>\n",
       "<table border=\"1\" class=\"dataframe\">\n",
       "  <thead>\n",
       "    <tr style=\"text-align: right;\">\n",
       "      <th></th>\n",
       "      <th>satisfaction_level</th>\n",
       "      <th>last_evaluation</th>\n",
       "      <th>number_project</th>\n",
       "      <th>average_montly_hours</th>\n",
       "      <th>time_spend_company</th>\n",
       "      <th>Work_accident</th>\n",
       "      <th>left</th>\n",
       "      <th>promotion_last_5years</th>\n",
       "      <th>part</th>\n",
       "      <th>salary</th>\n",
       "    </tr>\n",
       "  </thead>\n",
       "  <tbody>\n",
       "    <tr>\n",
       "      <th>0</th>\n",
       "      <td>0.38</td>\n",
       "      <td>0.53</td>\n",
       "      <td>2</td>\n",
       "      <td>157</td>\n",
       "      <td>3</td>\n",
       "      <td>0</td>\n",
       "      <td>1</td>\n",
       "      <td>0</td>\n",
       "      <td>sales</td>\n",
       "      <td>low</td>\n",
       "    </tr>\n",
       "    <tr>\n",
       "      <th>1</th>\n",
       "      <td>0.80</td>\n",
       "      <td>0.86</td>\n",
       "      <td>5</td>\n",
       "      <td>262</td>\n",
       "      <td>6</td>\n",
       "      <td>0</td>\n",
       "      <td>1</td>\n",
       "      <td>0</td>\n",
       "      <td>sales</td>\n",
       "      <td>medium</td>\n",
       "    </tr>\n",
       "    <tr>\n",
       "      <th>2</th>\n",
       "      <td>0.11</td>\n",
       "      <td>0.88</td>\n",
       "      <td>7</td>\n",
       "      <td>272</td>\n",
       "      <td>4</td>\n",
       "      <td>0</td>\n",
       "      <td>1</td>\n",
       "      <td>0</td>\n",
       "      <td>sales</td>\n",
       "      <td>medium</td>\n",
       "    </tr>\n",
       "    <tr>\n",
       "      <th>3</th>\n",
       "      <td>0.72</td>\n",
       "      <td>0.87</td>\n",
       "      <td>5</td>\n",
       "      <td>223</td>\n",
       "      <td>5</td>\n",
       "      <td>0</td>\n",
       "      <td>1</td>\n",
       "      <td>0</td>\n",
       "      <td>sales</td>\n",
       "      <td>low</td>\n",
       "    </tr>\n",
       "    <tr>\n",
       "      <th>4</th>\n",
       "      <td>0.37</td>\n",
       "      <td>0.52</td>\n",
       "      <td>2</td>\n",
       "      <td>159</td>\n",
       "      <td>3</td>\n",
       "      <td>0</td>\n",
       "      <td>1</td>\n",
       "      <td>0</td>\n",
       "      <td>sales</td>\n",
       "      <td>low</td>\n",
       "    </tr>\n",
       "  </tbody>\n",
       "</table>\n",
       "</div>"
      ],
      "text/plain": [
       "   satisfaction_level  last_evaluation  number_project  average_montly_hours  \\\n",
       "0                0.38             0.53               2                   157   \n",
       "1                0.80             0.86               5                   262   \n",
       "2                0.11             0.88               7                   272   \n",
       "3                0.72             0.87               5                   223   \n",
       "4                0.37             0.52               2                   159   \n",
       "\n",
       "   time_spend_company  Work_accident  left  promotion_last_5years   part  \\\n",
       "0                   3              0     1                      0  sales   \n",
       "1                   6              0     1                      0  sales   \n",
       "2                   4              0     1                      0  sales   \n",
       "3                   5              0     1                      0  sales   \n",
       "4                   3              0     1                      0  sales   \n",
       "\n",
       "   salary  \n",
       "0     low  \n",
       "1  medium  \n",
       "2  medium  \n",
       "3     low  \n",
       "4     low  "
      ]
     },
     "execution_count": 104,
     "metadata": {},
     "output_type": "execute_result"
    }
   ],
   "source": [
    "data = pd.read_csv(\"dataset/HR.csv\")\n",
    "data.head()"
   ]
  },
  {
   "cell_type": "code",
   "execution_count": 105,
   "metadata": {},
   "outputs": [
    {
     "name": "stdout",
     "output_type": "stream",
     "text": [
      "<class 'pandas.core.frame.DataFrame'>\n",
      "RangeIndex: 14999 entries, 0 to 14998\n",
      "Data columns (total 10 columns):\n",
      " #   Column                 Non-Null Count  Dtype  \n",
      "---  ------                 --------------  -----  \n",
      " 0   satisfaction_level     14999 non-null  float64\n",
      " 1   last_evaluation        14999 non-null  float64\n",
      " 2   number_project         14999 non-null  int64  \n",
      " 3   average_montly_hours   14999 non-null  int64  \n",
      " 4   time_spend_company     14999 non-null  int64  \n",
      " 5   Work_accident          14999 non-null  int64  \n",
      " 6   left                   14999 non-null  int64  \n",
      " 7   promotion_last_5years  14999 non-null  int64  \n",
      " 8   part                   14999 non-null  object \n",
      " 9   salary                 14999 non-null  object \n",
      "dtypes: float64(2), int64(6), object(2)\n",
      "memory usage: 1.1+ MB\n"
     ]
    }
   ],
   "source": [
    "data.info()"
   ]
  },
  {
   "cell_type": "code",
   "execution_count": 106,
   "metadata": {},
   "outputs": [
    {
     "data": {
      "text/plain": [
       "array(['sales', 'accounting', 'hr', 'technical', 'support', 'management',\n",
       "       'IT', 'product_mng', 'marketing', 'RandD'], dtype=object)"
      ]
     },
     "execution_count": 106,
     "metadata": {},
     "output_type": "execute_result"
    }
   ],
   "source": [
    "# 返回某一列的唯一值\n",
    "data.part.unique()"
   ]
  },
  {
   "cell_type": "code",
   "execution_count": 107,
   "metadata": {},
   "outputs": [
    {
     "data": {
      "text/plain": [
       "array(['low', 'medium', 'high'], dtype=object)"
      ]
     },
     "execution_count": 107,
     "metadata": {},
     "output_type": "execute_result"
    }
   ],
   "source": [
    "data.salary.unique()"
   ]
  },
  {
   "cell_type": "code",
   "execution_count": 108,
   "metadata": {},
   "outputs": [
    {
     "data": {
      "text/plain": [
       "salary  part       \n",
       "high    IT               83\n",
       "        RandD            51\n",
       "        accounting       74\n",
       "        hr               45\n",
       "        management      225\n",
       "        marketing        80\n",
       "        product_mng      68\n",
       "        sales           269\n",
       "        support         141\n",
       "        technical       201\n",
       "low     IT              609\n",
       "        RandD           364\n",
       "        accounting      358\n",
       "        hr              335\n",
       "        management      180\n",
       "        marketing       402\n",
       "        product_mng     451\n",
       "        sales          2099\n",
       "        support        1146\n",
       "        technical      1372\n",
       "medium  IT              535\n",
       "        RandD           372\n",
       "        accounting      335\n",
       "        hr              359\n",
       "        management      225\n",
       "        marketing       376\n",
       "        product_mng     383\n",
       "        sales          1772\n",
       "        support         942\n",
       "        technical      1147\n",
       "dtype: int64"
      ]
     },
     "execution_count": 108,
     "metadata": {},
     "output_type": "execute_result"
    }
   ],
   "source": [
    "data.groupby([\"salary\",\"part\"]).size()"
   ]
  },
  {
   "cell_type": "code",
   "execution_count": 109,
   "metadata": {},
   "outputs": [
    {
     "data": {
      "text/html": [
       "<div>\n",
       "<style scoped>\n",
       "    .dataframe tbody tr th:only-of-type {\n",
       "        vertical-align: middle;\n",
       "    }\n",
       "\n",
       "    .dataframe tbody tr th {\n",
       "        vertical-align: top;\n",
       "    }\n",
       "\n",
       "    .dataframe thead th {\n",
       "        text-align: right;\n",
       "    }\n",
       "</style>\n",
       "<table border=\"1\" class=\"dataframe\">\n",
       "  <thead>\n",
       "    <tr style=\"text-align: right;\">\n",
       "      <th></th>\n",
       "      <th>high</th>\n",
       "      <th>low</th>\n",
       "      <th>medium</th>\n",
       "    </tr>\n",
       "  </thead>\n",
       "  <tbody>\n",
       "    <tr>\n",
       "      <th>0</th>\n",
       "      <td>0</td>\n",
       "      <td>1</td>\n",
       "      <td>0</td>\n",
       "    </tr>\n",
       "    <tr>\n",
       "      <th>1</th>\n",
       "      <td>0</td>\n",
       "      <td>0</td>\n",
       "      <td>1</td>\n",
       "    </tr>\n",
       "    <tr>\n",
       "      <th>2</th>\n",
       "      <td>0</td>\n",
       "      <td>0</td>\n",
       "      <td>1</td>\n",
       "    </tr>\n",
       "    <tr>\n",
       "      <th>3</th>\n",
       "      <td>0</td>\n",
       "      <td>1</td>\n",
       "      <td>0</td>\n",
       "    </tr>\n",
       "    <tr>\n",
       "      <th>4</th>\n",
       "      <td>0</td>\n",
       "      <td>1</td>\n",
       "      <td>0</td>\n",
       "    </tr>\n",
       "    <tr>\n",
       "      <th>...</th>\n",
       "      <td>...</td>\n",
       "      <td>...</td>\n",
       "      <td>...</td>\n",
       "    </tr>\n",
       "    <tr>\n",
       "      <th>14994</th>\n",
       "      <td>0</td>\n",
       "      <td>1</td>\n",
       "      <td>0</td>\n",
       "    </tr>\n",
       "    <tr>\n",
       "      <th>14995</th>\n",
       "      <td>0</td>\n",
       "      <td>1</td>\n",
       "      <td>0</td>\n",
       "    </tr>\n",
       "    <tr>\n",
       "      <th>14996</th>\n",
       "      <td>0</td>\n",
       "      <td>1</td>\n",
       "      <td>0</td>\n",
       "    </tr>\n",
       "    <tr>\n",
       "      <th>14997</th>\n",
       "      <td>0</td>\n",
       "      <td>1</td>\n",
       "      <td>0</td>\n",
       "    </tr>\n",
       "    <tr>\n",
       "      <th>14998</th>\n",
       "      <td>0</td>\n",
       "      <td>1</td>\n",
       "      <td>0</td>\n",
       "    </tr>\n",
       "  </tbody>\n",
       "</table>\n",
       "<p>14999 rows × 3 columns</p>\n",
       "</div>"
      ],
      "text/plain": [
       "       high  low  medium\n",
       "0         0    1       0\n",
       "1         0    0       1\n",
       "2         0    0       1\n",
       "3         0    1       0\n",
       "4         0    1       0\n",
       "...     ...  ...     ...\n",
       "14994     0    1       0\n",
       "14995     0    1       0\n",
       "14996     0    1       0\n",
       "14997     0    1       0\n",
       "14998     0    1       0\n",
       "\n",
       "[14999 rows x 3 columns]"
      ]
     },
     "execution_count": 109,
     "metadata": {},
     "output_type": "execute_result"
    }
   ],
   "source": [
    "pd.get_dummies(data.salary)"
   ]
  },
  {
   "cell_type": "code",
   "execution_count": 110,
   "metadata": {},
   "outputs": [],
   "source": [
    "data = data.join(pd.get_dummies(data.salary))"
   ]
  },
  {
   "cell_type": "code",
   "execution_count": 111,
   "metadata": {},
   "outputs": [
    {
     "name": "stdout",
     "output_type": "stream",
     "text": [
      "<class 'pandas.core.frame.DataFrame'>\n",
      "RangeIndex: 14999 entries, 0 to 14998\n",
      "Data columns (total 13 columns):\n",
      " #   Column                 Non-Null Count  Dtype  \n",
      "---  ------                 --------------  -----  \n",
      " 0   satisfaction_level     14999 non-null  float64\n",
      " 1   last_evaluation        14999 non-null  float64\n",
      " 2   number_project         14999 non-null  int64  \n",
      " 3   average_montly_hours   14999 non-null  int64  \n",
      " 4   time_spend_company     14999 non-null  int64  \n",
      " 5   Work_accident          14999 non-null  int64  \n",
      " 6   left                   14999 non-null  int64  \n",
      " 7   promotion_last_5years  14999 non-null  int64  \n",
      " 8   part                   14999 non-null  object \n",
      " 9   salary                 14999 non-null  object \n",
      " 10  high                   14999 non-null  uint8  \n",
      " 11  low                    14999 non-null  uint8  \n",
      " 12  medium                 14999 non-null  uint8  \n",
      "dtypes: float64(2), int64(6), object(2), uint8(3)\n",
      "memory usage: 1.2+ MB\n"
     ]
    }
   ],
   "source": [
    "data.info()"
   ]
  },
  {
   "cell_type": "code",
   "execution_count": 112,
   "metadata": {},
   "outputs": [],
   "source": [
    "del data[\"salary\"]"
   ]
  },
  {
   "cell_type": "code",
   "execution_count": 113,
   "metadata": {},
   "outputs": [],
   "source": [
    "data = data.join(pd.get_dummies(data.part))\n",
    "del data[\"part\"]"
   ]
  },
  {
   "cell_type": "code",
   "execution_count": 114,
   "metadata": {},
   "outputs": [
    {
     "data": {
      "text/html": [
       "<div>\n",
       "<style scoped>\n",
       "    .dataframe tbody tr th:only-of-type {\n",
       "        vertical-align: middle;\n",
       "    }\n",
       "\n",
       "    .dataframe tbody tr th {\n",
       "        vertical-align: top;\n",
       "    }\n",
       "\n",
       "    .dataframe thead th {\n",
       "        text-align: right;\n",
       "    }\n",
       "</style>\n",
       "<table border=\"1\" class=\"dataframe\">\n",
       "  <thead>\n",
       "    <tr style=\"text-align: right;\">\n",
       "      <th></th>\n",
       "      <th>satisfaction_level</th>\n",
       "      <th>last_evaluation</th>\n",
       "      <th>number_project</th>\n",
       "      <th>average_montly_hours</th>\n",
       "      <th>time_spend_company</th>\n",
       "      <th>Work_accident</th>\n",
       "      <th>left</th>\n",
       "      <th>promotion_last_5years</th>\n",
       "      <th>high</th>\n",
       "      <th>low</th>\n",
       "      <th>...</th>\n",
       "      <th>IT</th>\n",
       "      <th>RandD</th>\n",
       "      <th>accounting</th>\n",
       "      <th>hr</th>\n",
       "      <th>management</th>\n",
       "      <th>marketing</th>\n",
       "      <th>product_mng</th>\n",
       "      <th>sales</th>\n",
       "      <th>support</th>\n",
       "      <th>technical</th>\n",
       "    </tr>\n",
       "  </thead>\n",
       "  <tbody>\n",
       "    <tr>\n",
       "      <th>0</th>\n",
       "      <td>0.38</td>\n",
       "      <td>0.53</td>\n",
       "      <td>2</td>\n",
       "      <td>157</td>\n",
       "      <td>3</td>\n",
       "      <td>0</td>\n",
       "      <td>1</td>\n",
       "      <td>0</td>\n",
       "      <td>0</td>\n",
       "      <td>1</td>\n",
       "      <td>...</td>\n",
       "      <td>0</td>\n",
       "      <td>0</td>\n",
       "      <td>0</td>\n",
       "      <td>0</td>\n",
       "      <td>0</td>\n",
       "      <td>0</td>\n",
       "      <td>0</td>\n",
       "      <td>1</td>\n",
       "      <td>0</td>\n",
       "      <td>0</td>\n",
       "    </tr>\n",
       "    <tr>\n",
       "      <th>1</th>\n",
       "      <td>0.80</td>\n",
       "      <td>0.86</td>\n",
       "      <td>5</td>\n",
       "      <td>262</td>\n",
       "      <td>6</td>\n",
       "      <td>0</td>\n",
       "      <td>1</td>\n",
       "      <td>0</td>\n",
       "      <td>0</td>\n",
       "      <td>0</td>\n",
       "      <td>...</td>\n",
       "      <td>0</td>\n",
       "      <td>0</td>\n",
       "      <td>0</td>\n",
       "      <td>0</td>\n",
       "      <td>0</td>\n",
       "      <td>0</td>\n",
       "      <td>0</td>\n",
       "      <td>1</td>\n",
       "      <td>0</td>\n",
       "      <td>0</td>\n",
       "    </tr>\n",
       "    <tr>\n",
       "      <th>2</th>\n",
       "      <td>0.11</td>\n",
       "      <td>0.88</td>\n",
       "      <td>7</td>\n",
       "      <td>272</td>\n",
       "      <td>4</td>\n",
       "      <td>0</td>\n",
       "      <td>1</td>\n",
       "      <td>0</td>\n",
       "      <td>0</td>\n",
       "      <td>0</td>\n",
       "      <td>...</td>\n",
       "      <td>0</td>\n",
       "      <td>0</td>\n",
       "      <td>0</td>\n",
       "      <td>0</td>\n",
       "      <td>0</td>\n",
       "      <td>0</td>\n",
       "      <td>0</td>\n",
       "      <td>1</td>\n",
       "      <td>0</td>\n",
       "      <td>0</td>\n",
       "    </tr>\n",
       "    <tr>\n",
       "      <th>3</th>\n",
       "      <td>0.72</td>\n",
       "      <td>0.87</td>\n",
       "      <td>5</td>\n",
       "      <td>223</td>\n",
       "      <td>5</td>\n",
       "      <td>0</td>\n",
       "      <td>1</td>\n",
       "      <td>0</td>\n",
       "      <td>0</td>\n",
       "      <td>1</td>\n",
       "      <td>...</td>\n",
       "      <td>0</td>\n",
       "      <td>0</td>\n",
       "      <td>0</td>\n",
       "      <td>0</td>\n",
       "      <td>0</td>\n",
       "      <td>0</td>\n",
       "      <td>0</td>\n",
       "      <td>1</td>\n",
       "      <td>0</td>\n",
       "      <td>0</td>\n",
       "    </tr>\n",
       "    <tr>\n",
       "      <th>4</th>\n",
       "      <td>0.37</td>\n",
       "      <td>0.52</td>\n",
       "      <td>2</td>\n",
       "      <td>159</td>\n",
       "      <td>3</td>\n",
       "      <td>0</td>\n",
       "      <td>1</td>\n",
       "      <td>0</td>\n",
       "      <td>0</td>\n",
       "      <td>1</td>\n",
       "      <td>...</td>\n",
       "      <td>0</td>\n",
       "      <td>0</td>\n",
       "      <td>0</td>\n",
       "      <td>0</td>\n",
       "      <td>0</td>\n",
       "      <td>0</td>\n",
       "      <td>0</td>\n",
       "      <td>1</td>\n",
       "      <td>0</td>\n",
       "      <td>0</td>\n",
       "    </tr>\n",
       "  </tbody>\n",
       "</table>\n",
       "<p>5 rows × 21 columns</p>\n",
       "</div>"
      ],
      "text/plain": [
       "   satisfaction_level  last_evaluation  number_project  average_montly_hours  \\\n",
       "0                0.38             0.53               2                   157   \n",
       "1                0.80             0.86               5                   262   \n",
       "2                0.11             0.88               7                   272   \n",
       "3                0.72             0.87               5                   223   \n",
       "4                0.37             0.52               2                   159   \n",
       "\n",
       "   time_spend_company  Work_accident  left  promotion_last_5years  high  low  \\\n",
       "0                   3              0     1                      0     0    1   \n",
       "1                   6              0     1                      0     0    0   \n",
       "2                   4              0     1                      0     0    0   \n",
       "3                   5              0     1                      0     0    1   \n",
       "4                   3              0     1                      0     0    1   \n",
       "\n",
       "   ...  IT  RandD  accounting  hr  management  marketing  product_mng  sales  \\\n",
       "0  ...   0      0           0   0           0          0            0      1   \n",
       "1  ...   0      0           0   0           0          0            0      1   \n",
       "2  ...   0      0           0   0           0          0            0      1   \n",
       "3  ...   0      0           0   0           0          0            0      1   \n",
       "4  ...   0      0           0   0           0          0            0      1   \n",
       "\n",
       "   support  technical  \n",
       "0        0          0  \n",
       "1        0          0  \n",
       "2        0          0  \n",
       "3        0          0  \n",
       "4        0          0  \n",
       "\n",
       "[5 rows x 21 columns]"
      ]
     },
     "execution_count": 114,
     "metadata": {},
     "output_type": "execute_result"
    }
   ],
   "source": [
    "data.head()"
   ]
  },
  {
   "cell_type": "code",
   "execution_count": 115,
   "metadata": {},
   "outputs": [
    {
     "name": "stdout",
     "output_type": "stream",
     "text": [
      "<class 'pandas.core.frame.DataFrame'>\n",
      "RangeIndex: 14999 entries, 0 to 14998\n",
      "Data columns (total 21 columns):\n",
      " #   Column                 Non-Null Count  Dtype  \n",
      "---  ------                 --------------  -----  \n",
      " 0   satisfaction_level     14999 non-null  float64\n",
      " 1   last_evaluation        14999 non-null  float64\n",
      " 2   number_project         14999 non-null  int64  \n",
      " 3   average_montly_hours   14999 non-null  int64  \n",
      " 4   time_spend_company     14999 non-null  int64  \n",
      " 5   Work_accident          14999 non-null  int64  \n",
      " 6   left                   14999 non-null  int64  \n",
      " 7   promotion_last_5years  14999 non-null  int64  \n",
      " 8   high                   14999 non-null  uint8  \n",
      " 9   low                    14999 non-null  uint8  \n",
      " 10  medium                 14999 non-null  uint8  \n",
      " 11  IT                     14999 non-null  uint8  \n",
      " 12  RandD                  14999 non-null  uint8  \n",
      " 13  accounting             14999 non-null  uint8  \n",
      " 14  hr                     14999 non-null  uint8  \n",
      " 15  management             14999 non-null  uint8  \n",
      " 16  marketing              14999 non-null  uint8  \n",
      " 17  product_mng            14999 non-null  uint8  \n",
      " 18  sales                  14999 non-null  uint8  \n",
      " 19  support                14999 non-null  uint8  \n",
      " 20  technical              14999 non-null  uint8  \n",
      "dtypes: float64(2), int64(6), uint8(13)\n",
      "memory usage: 1.1 MB\n"
     ]
    }
   ],
   "source": [
    "data.info()"
   ]
  },
  {
   "cell_type": "code",
   "execution_count": 116,
   "metadata": {},
   "outputs": [
    {
     "data": {
      "text/plain": [
       "0    11428\n",
       "1     3571\n",
       "Name: left, dtype: int64"
      ]
     },
     "execution_count": 116,
     "metadata": {},
     "output_type": "execute_result"
    }
   ],
   "source": [
    "data.left.value_counts()"
   ]
  },
  {
   "cell_type": "markdown",
   "metadata": {},
   "source": [
    "全部预测为不离职,还有76%的正确率，所以，若是不能超过它，则没意义"
   ]
  },
  {
   "cell_type": "code",
   "execution_count": 117,
   "metadata": {},
   "outputs": [
    {
     "data": {
      "text/plain": [
       "0.7619174611640777"
      ]
     },
     "execution_count": 117,
     "metadata": {},
     "output_type": "execute_result"
    }
   ],
   "source": [
    "11428/len(data)"
   ]
  },
  {
   "cell_type": "code",
   "execution_count": 118,
   "metadata": {},
   "outputs": [],
   "source": [
    "Y_data = data.left.values.reshape(-1,1)\n"
   ]
  },
  {
   "cell_type": "code",
   "execution_count": 119,
   "metadata": {},
   "outputs": [
    {
     "data": {
      "text/plain": [
       "(14999, 1)"
      ]
     },
     "execution_count": 119,
     "metadata": {},
     "output_type": "execute_result"
    }
   ],
   "source": [
    "Y_data.shape"
   ]
  },
  {
   "cell_type": "code",
   "execution_count": 120,
   "metadata": {},
   "outputs": [],
   "source": [
    "Y = torch.from_numpy(Y_data).type(torch.float32)"
   ]
  },
  {
   "cell_type": "code",
   "execution_count": 121,
   "metadata": {},
   "outputs": [
    {
     "data": {
      "text/plain": [
       "tensor([[1.],\n",
       "        [1.],\n",
       "        [1.],\n",
       "        ...,\n",
       "        [1.],\n",
       "        [1.],\n",
       "        [1.]])"
      ]
     },
     "execution_count": 121,
     "metadata": {},
     "output_type": "execute_result"
    }
   ],
   "source": [
    "Y"
   ]
  },
  {
   "cell_type": "code",
   "execution_count": 122,
   "metadata": {},
   "outputs": [
    {
     "data": {
      "text/plain": [
       "array([[0.38, 0.53, 2.  , ..., 1.  , 0.  , 0.  ],\n",
       "       [0.8 , 0.86, 5.  , ..., 1.  , 0.  , 0.  ],\n",
       "       [0.11, 0.88, 7.  , ..., 1.  , 0.  , 0.  ],\n",
       "       ...,\n",
       "       [0.37, 0.53, 2.  , ..., 0.  , 1.  , 0.  ],\n",
       "       [0.11, 0.96, 6.  , ..., 0.  , 1.  , 0.  ],\n",
       "       [0.37, 0.52, 2.  , ..., 0.  , 1.  , 0.  ]])"
      ]
     },
     "execution_count": 122,
     "metadata": {},
     "output_type": "execute_result"
    }
   ],
   "source": [
    "X_data = data[[c for c in data.columns if c!=\"left\"]].values\n",
    "X_data"
   ]
  },
  {
   "cell_type": "code",
   "execution_count": 123,
   "metadata": {},
   "outputs": [],
   "source": [
    "X = torch.from_numpy(X_data).type(torch.float32)"
   ]
  },
  {
   "cell_type": "code",
   "execution_count": 124,
   "metadata": {},
   "outputs": [
    {
     "data": {
      "text/plain": [
       "tensor([[0.3800, 0.5300, 2.0000,  ..., 1.0000, 0.0000, 0.0000],\n",
       "        [0.8000, 0.8600, 5.0000,  ..., 1.0000, 0.0000, 0.0000],\n",
       "        [0.1100, 0.8800, 7.0000,  ..., 1.0000, 0.0000, 0.0000],\n",
       "        ...,\n",
       "        [0.3700, 0.5300, 2.0000,  ..., 0.0000, 1.0000, 0.0000],\n",
       "        [0.1100, 0.9600, 6.0000,  ..., 0.0000, 1.0000, 0.0000],\n",
       "        [0.3700, 0.5200, 2.0000,  ..., 0.0000, 1.0000, 0.0000]])"
      ]
     },
     "execution_count": 124,
     "metadata": {},
     "output_type": "execute_result"
    }
   ],
   "source": [
    "X"
   ]
  },
  {
   "cell_type": "markdown",
   "metadata": {},
   "source": [
    "## 创建模型"
   ]
  },
  {
   "cell_type": "code",
   "execution_count": 125,
   "metadata": {},
   "outputs": [],
   "source": [
    "from torch import nn"
   ]
  },
  {
   "cell_type": "markdown",
   "metadata": {},
   "source": [
    "nn.Module:继承这个类\n",
    "__init__:初始化所有层\n",
    "forward: 定义模型的运算过程（前向传播过程）"
   ]
  },
  {
   "cell_type": "code",
   "execution_count": 126,
   "metadata": {},
   "outputs": [],
   "source": [
    "class Model(nn.Module):\n",
    "    def __init__(self):\n",
    "        super().__init__()\n",
    "        self.liner_1 = nn.Linear(20, 64)\n",
    "        self.liner_2 = nn.Linear(64, 64)\n",
    "        self.liner_3 = nn.Linear(64,1)\n",
    "        self.sigmoid = nn.Sigmoid()\n",
    "    \n",
    "    def forward(self, input):\n",
    "        x = self.liner_1(input)\n",
    "        x = F.relu(x)\n",
    "        x = self.liner_2(x)\n",
    "        x = F.relu(x)\n",
    "        x = self.liner_3(x)\n",
    "        x = self.sigmoid(x)\n",
    "        return x\n",
    "\n",
    "        "
   ]
  },
  {
   "cell_type": "code",
   "execution_count": 127,
   "metadata": {},
   "outputs": [
    {
     "data": {
      "text/plain": [
       "Model(\n",
       "  (liner_1): Linear(in_features=20, out_features=64, bias=True)\n",
       "  (liner_2): Linear(in_features=64, out_features=64, bias=True)\n",
       "  (liner_3): Linear(in_features=64, out_features=1, bias=True)\n",
       "  (sigmoid): Sigmoid()\n",
       ")"
      ]
     },
     "execution_count": 127,
     "metadata": {},
     "output_type": "execute_result"
    }
   ],
   "source": [
    "model = Model()\n",
    "model"
   ]
  },
  {
   "cell_type": "code",
   "execution_count": 128,
   "metadata": {},
   "outputs": [],
   "source": [
    "lr = 0.0001\n"
   ]
  },
  {
   "cell_type": "code",
   "execution_count": 129,
   "metadata": {},
   "outputs": [],
   "source": [
    "def get_model():\n",
    "    model = Model()\n",
    "    opt = torch.optim.Adam(model.parameters(),lr=lr)\n",
    "    return model, opt"
   ]
  },
  {
   "cell_type": "code",
   "execution_count": 130,
   "metadata": {},
   "outputs": [],
   "source": [
    "model, optim = get_model()"
   ]
  },
  {
   "cell_type": "markdown",
   "metadata": {},
   "source": [
    "## 定义损失函数"
   ]
  },
  {
   "cell_type": "code",
   "execution_count": 131,
   "metadata": {},
   "outputs": [],
   "source": [
    "loss_fn = nn.BCELoss()"
   ]
  },
  {
   "cell_type": "code",
   "execution_count": 132,
   "metadata": {},
   "outputs": [],
   "source": [
    "batch = 64\n",
    "no_of_batches = len(data)//batch\n",
    "epochs = 100"
   ]
  },
  {
   "cell_type": "code",
   "execution_count": 133,
   "metadata": {},
   "outputs": [
    {
     "name": "stdout",
     "output_type": "stream",
     "text": [
      "epoch: 0 loss: 0.7176766991615295\n",
      "epoch: 1 loss: 0.7330382466316223\n",
      "epoch: 2 loss: 0.7248596549034119\n",
      "epoch: 3 loss: 0.7130147218704224\n",
      "epoch: 4 loss: 0.7042692303657532\n",
      "epoch: 5 loss: 0.6954006552696228\n",
      "epoch: 6 loss: 0.6861502528190613\n",
      "epoch: 7 loss: 0.6766253709793091\n",
      "epoch: 8 loss: 0.6662309169769287\n",
      "epoch: 9 loss: 0.6568509340286255\n",
      "epoch: 10 loss: 0.6510912179946899\n",
      "epoch: 11 loss: 0.6379894614219666\n",
      "epoch: 12 loss: 0.6282041072845459\n",
      "epoch: 13 loss: 0.6187160611152649\n",
      "epoch: 14 loss: 0.6065700650215149\n",
      "epoch: 15 loss: 0.6029775738716125\n",
      "epoch: 16 loss: 0.5957040190696716\n",
      "epoch: 17 loss: 0.5890514850616455\n",
      "epoch: 18 loss: 0.5840762853622437\n",
      "epoch: 19 loss: 0.5795418620109558\n",
      "epoch: 20 loss: 0.5755941271781921\n",
      "epoch: 21 loss: 0.5718924403190613\n",
      "epoch: 22 loss: 0.5686972737312317\n",
      "epoch: 23 loss: 0.5657935738563538\n",
      "epoch: 24 loss: 0.5636541843414307\n",
      "epoch: 25 loss: 0.5606536269187927\n",
      "epoch: 26 loss: 0.5726396441459656\n",
      "epoch: 27 loss: 0.565210223197937\n",
      "epoch: 28 loss: 0.5638801455497742\n",
      "epoch: 29 loss: 0.5630186796188354\n",
      "epoch: 30 loss: 0.5650447607040405\n",
      "epoch: 31 loss: 0.5588268637657166\n",
      "epoch: 32 loss: 0.5585162043571472\n",
      "epoch: 33 loss: 0.5557849407196045\n",
      "epoch: 34 loss: 0.5546121001243591\n",
      "epoch: 35 loss: 0.5555052757263184\n",
      "epoch: 36 loss: 0.553401529788971\n",
      "epoch: 37 loss: 0.5531930923461914\n",
      "epoch: 38 loss: 0.5523583292961121\n",
      "epoch: 39 loss: 0.5523662567138672\n",
      "epoch: 40 loss: 0.5520654916763306\n",
      "epoch: 41 loss: 0.5507537722587585\n",
      "epoch: 42 loss: 0.5507017374038696\n",
      "epoch: 43 loss: 0.5504641532897949\n",
      "epoch: 44 loss: 0.5510083436965942\n",
      "epoch: 45 loss: 0.5516648292541504\n",
      "epoch: 46 loss: 0.5517604351043701\n",
      "epoch: 47 loss: 0.5519557595252991\n",
      "epoch: 48 loss: 0.5481312274932861\n",
      "epoch: 49 loss: 0.5519271492958069\n",
      "epoch: 50 loss: 0.5518814325332642\n",
      "epoch: 51 loss: 0.5508220791816711\n",
      "epoch: 52 loss: 0.5559636354446411\n",
      "epoch: 53 loss: 0.5519842505455017\n",
      "epoch: 54 loss: 0.5506005883216858\n",
      "epoch: 55 loss: 0.5511584877967834\n",
      "epoch: 56 loss: 0.552665114402771\n",
      "epoch: 57 loss: 0.5497844815254211\n",
      "epoch: 58 loss: 0.5490025281906128\n",
      "epoch: 59 loss: 0.5502893328666687\n",
      "epoch: 60 loss: 0.5494096279144287\n",
      "epoch: 61 loss: 0.549186110496521\n",
      "epoch: 62 loss: 0.5482029914855957\n",
      "epoch: 63 loss: 0.5490798354148865\n",
      "epoch: 64 loss: 0.5478001832962036\n",
      "epoch: 65 loss: 0.5547282695770264\n",
      "epoch: 66 loss: 0.5475207567214966\n",
      "epoch: 67 loss: 0.5461358428001404\n",
      "epoch: 68 loss: 0.545842170715332\n",
      "epoch: 69 loss: 0.546083390712738\n",
      "epoch: 70 loss: 0.5434885621070862\n",
      "epoch: 71 loss: 0.5400170087814331\n",
      "epoch: 72 loss: 0.5436380505561829\n",
      "epoch: 73 loss: 0.5432952642440796\n",
      "epoch: 74 loss: 0.5421537160873413\n",
      "epoch: 75 loss: 0.5394197702407837\n",
      "epoch: 76 loss: 0.5386636853218079\n",
      "epoch: 77 loss: 0.5368984937667847\n",
      "epoch: 78 loss: 0.5385163426399231\n",
      "epoch: 79 loss: 0.537860095500946\n",
      "epoch: 80 loss: 0.5367098450660706\n",
      "epoch: 81 loss: 0.5345233082771301\n",
      "epoch: 82 loss: 0.5331851840019226\n",
      "epoch: 83 loss: 0.5316038131713867\n",
      "epoch: 84 loss: 0.5290976762771606\n",
      "epoch: 85 loss: 0.52797931432724\n",
      "epoch: 86 loss: 0.529505729675293\n",
      "epoch: 87 loss: 0.5263671278953552\n",
      "epoch: 88 loss: 0.5260647535324097\n",
      "epoch: 89 loss: 0.5239337086677551\n",
      "epoch: 90 loss: 0.5226627588272095\n",
      "epoch: 91 loss: 0.522691547870636\n",
      "epoch: 92 loss: 0.5207797884941101\n",
      "epoch: 93 loss: 0.5203503370285034\n",
      "epoch: 94 loss: 0.5193050503730774\n",
      "epoch: 95 loss: 0.5190242528915405\n",
      "epoch: 96 loss: 0.5172489285469055\n",
      "epoch: 97 loss: 0.5246778130531311\n",
      "epoch: 98 loss: 0.5252063274383545\n",
      "epoch: 99 loss: 0.5163357853889465\n"
     ]
    }
   ],
   "source": [
    "for epoch in range(epochs):\n",
    "    for i in range(no_of_batches):\n",
    "        start = i * batch\n",
    "        end = start + batch\n",
    "        x = X[start: end]\n",
    "        y = Y[start: end]\n",
    "        y_pred = model(x)\n",
    "        loss = loss_fn(y_pred, y)\n",
    "        # 将model.parameters()\n",
    "        optim.zero_grad()\n",
    "        loss.backward()\n",
    "        optim.step()\n",
    "    with torch.no_grad():\n",
    "        print(\"epoch:\",epoch,\"loss:\",loss_fn(model(X),Y).data.item())\n",
    "\n",
    "        "
   ]
  },
  {
   "cell_type": "code",
   "execution_count": 134,
   "metadata": {},
   "outputs": [
    {
     "data": {
      "text/plain": [
       "tensor(0.5163, grad_fn=<BinaryCrossEntropyBackward0>)"
      ]
     },
     "execution_count": 134,
     "metadata": {},
     "output_type": "execute_result"
    }
   ],
   "source": [
    "loss_fn(model(X),Y)"
   ]
  },
  {
   "cell_type": "code",
   "execution_count": 135,
   "metadata": {},
   "outputs": [],
   "source": [
    "from torch.utils.data import TensorDataset"
   ]
  },
  {
   "cell_type": "code",
   "execution_count": 136,
   "metadata": {},
   "outputs": [],
   "source": [
    "HRdataset = TensorDataset(X,Y)\n"
   ]
  },
  {
   "cell_type": "code",
   "execution_count": 137,
   "metadata": {},
   "outputs": [
    {
     "data": {
      "text/plain": [
       "<torch.utils.data.dataset.TensorDataset at 0x17c4c34d310>"
      ]
     },
     "execution_count": 137,
     "metadata": {},
     "output_type": "execute_result"
    }
   ],
   "source": [
    "HRdataset"
   ]
  },
  {
   "cell_type": "code",
   "execution_count": 138,
   "metadata": {},
   "outputs": [
    {
     "data": {
      "text/plain": [
       "14999"
      ]
     },
     "execution_count": 138,
     "metadata": {},
     "output_type": "execute_result"
    }
   ],
   "source": [
    "len(HRdataset)"
   ]
  },
  {
   "cell_type": "code",
   "execution_count": 139,
   "metadata": {},
   "outputs": [
    {
     "data": {
      "text/plain": [
       "(tensor([  0.3800,   0.5300,   2.0000, 157.0000,   3.0000,   0.0000,   0.0000,\n",
       "           0.0000,   1.0000,   0.0000,   0.0000,   0.0000,   0.0000,   0.0000,\n",
       "           0.0000,   0.0000,   0.0000,   1.0000,   0.0000,   0.0000]),\n",
       " tensor([1.]))"
      ]
     },
     "execution_count": 139,
     "metadata": {},
     "output_type": "execute_result"
    }
   ],
   "source": [
    "HRdataset[0]"
   ]
  },
  {
   "cell_type": "code",
   "execution_count": 140,
   "metadata": {},
   "outputs": [
    {
     "data": {
      "text/plain": [
       "(tensor([[1.1000e-01, 8.8000e-01, 7.0000e+00, 2.7200e+02, 4.0000e+00, 0.0000e+00,\n",
       "          0.0000e+00, 0.0000e+00, 0.0000e+00, 1.0000e+00, 0.0000e+00, 0.0000e+00,\n",
       "          0.0000e+00, 0.0000e+00, 0.0000e+00, 0.0000e+00, 0.0000e+00, 1.0000e+00,\n",
       "          0.0000e+00, 0.0000e+00],\n",
       "         [7.2000e-01, 8.7000e-01, 5.0000e+00, 2.2300e+02, 5.0000e+00, 0.0000e+00,\n",
       "          0.0000e+00, 0.0000e+00, 1.0000e+00, 0.0000e+00, 0.0000e+00, 0.0000e+00,\n",
       "          0.0000e+00, 0.0000e+00, 0.0000e+00, 0.0000e+00, 0.0000e+00, 1.0000e+00,\n",
       "          0.0000e+00, 0.0000e+00],\n",
       "         [3.7000e-01, 5.2000e-01, 2.0000e+00, 1.5900e+02, 3.0000e+00, 0.0000e+00,\n",
       "          0.0000e+00, 0.0000e+00, 1.0000e+00, 0.0000e+00, 0.0000e+00, 0.0000e+00,\n",
       "          0.0000e+00, 0.0000e+00, 0.0000e+00, 0.0000e+00, 0.0000e+00, 1.0000e+00,\n",
       "          0.0000e+00, 0.0000e+00]]),\n",
       " tensor([[1.],\n",
       "         [1.],\n",
       "         [1.]]))"
      ]
     },
     "execution_count": 140,
     "metadata": {},
     "output_type": "execute_result"
    }
   ],
   "source": [
    "HRdataset[2:5]"
   ]
  },
  {
   "cell_type": "code",
   "execution_count": 141,
   "metadata": {},
   "outputs": [
    {
     "name": "stdout",
     "output_type": "stream",
     "text": [
      "epoch: 0 loss: 0.5136058926582336\n",
      "epoch: 1 loss: 0.5114843845367432\n",
      "epoch: 2 loss: 0.510262131690979\n",
      "epoch: 3 loss: 0.5087526440620422\n",
      "epoch: 4 loss: 0.507613480091095\n",
      "epoch: 5 loss: 0.506384015083313\n",
      "epoch: 6 loss: 0.5054643750190735\n",
      "epoch: 7 loss: 0.5044152736663818\n",
      "epoch: 8 loss: 0.5036347508430481\n",
      "epoch: 9 loss: 0.5024536848068237\n",
      "epoch: 10 loss: 0.5015662908554077\n",
      "epoch: 11 loss: 0.5005391836166382\n",
      "epoch: 12 loss: 0.49973949790000916\n",
      "epoch: 13 loss: 0.49867355823516846\n",
      "epoch: 14 loss: 0.5046321153640747\n",
      "epoch: 15 loss: 0.5001006126403809\n",
      "epoch: 16 loss: 0.4966948926448822\n",
      "epoch: 17 loss: 0.4941505789756775\n",
      "epoch: 18 loss: 0.49148029088974\n",
      "epoch: 19 loss: 0.4907250702381134\n",
      "epoch: 20 loss: 0.48895642161369324\n",
      "epoch: 21 loss: 0.4876853823661804\n",
      "epoch: 22 loss: 0.48684147000312805\n",
      "epoch: 23 loss: 0.4855191707611084\n",
      "epoch: 24 loss: 0.4845154583454132\n",
      "epoch: 25 loss: 0.48337802290916443\n",
      "epoch: 26 loss: 0.4827190041542053\n",
      "epoch: 27 loss: 0.48085927963256836\n",
      "epoch: 28 loss: 0.47980985045433044\n",
      "epoch: 29 loss: 0.47814854979515076\n",
      "epoch: 30 loss: 0.4769638180732727\n",
      "epoch: 31 loss: 0.4754432439804077\n",
      "epoch: 32 loss: 0.47405892610549927\n",
      "epoch: 33 loss: 0.47266173362731934\n",
      "epoch: 34 loss: 0.4708947539329529\n",
      "epoch: 35 loss: 0.46923401951789856\n",
      "epoch: 36 loss: 0.4672374129295349\n",
      "epoch: 37 loss: 0.46971744298934937\n",
      "epoch: 38 loss: 0.464781790971756\n",
      "epoch: 39 loss: 0.4616430103778839\n",
      "epoch: 40 loss: 0.4593943953514099\n",
      "epoch: 41 loss: 0.45727235078811646\n",
      "epoch: 42 loss: 0.4552847146987915\n",
      "epoch: 43 loss: 0.45413321256637573\n",
      "epoch: 44 loss: 0.4519818127155304\n",
      "epoch: 45 loss: 0.44971519708633423\n",
      "epoch: 46 loss: 0.4479876458644867\n",
      "epoch: 47 loss: 0.44595080614089966\n",
      "epoch: 48 loss: 0.4440116882324219\n",
      "epoch: 49 loss: 0.44208452105522156\n",
      "epoch: 50 loss: 0.44008010625839233\n",
      "epoch: 51 loss: 0.43894821405410767\n",
      "epoch: 52 loss: 0.4378739297389984\n",
      "epoch: 53 loss: 0.43676695227622986\n",
      "epoch: 54 loss: 0.43334755301475525\n",
      "epoch: 55 loss: 0.4311107397079468\n",
      "epoch: 56 loss: 0.4291456639766693\n",
      "epoch: 57 loss: 0.4269319176673889\n",
      "epoch: 58 loss: 0.42491114139556885\n",
      "epoch: 59 loss: 0.42311766743659973\n",
      "epoch: 60 loss: 0.4211479425430298\n",
      "epoch: 61 loss: 0.4191340208053589\n",
      "epoch: 62 loss: 0.4172170162200928\n",
      "epoch: 63 loss: 0.41541916131973267\n",
      "epoch: 64 loss: 0.41360071301460266\n",
      "epoch: 65 loss: 0.41171348094940186\n",
      "epoch: 66 loss: 0.40998876094818115\n",
      "epoch: 67 loss: 0.40812140703201294\n",
      "epoch: 68 loss: 0.40640562772750854\n",
      "epoch: 69 loss: 0.4046212136745453\n",
      "epoch: 70 loss: 0.4029885530471802\n",
      "epoch: 71 loss: 0.4012921154499054\n",
      "epoch: 72 loss: 0.39967814087867737\n",
      "epoch: 73 loss: 0.3979457914829254\n",
      "epoch: 74 loss: 0.3962509334087372\n",
      "epoch: 75 loss: 0.3946724832057953\n",
      "epoch: 76 loss: 0.3930971622467041\n",
      "epoch: 77 loss: 0.39130181074142456\n",
      "epoch: 78 loss: 0.39004388451576233\n",
      "epoch: 79 loss: 0.388467013835907\n",
      "epoch: 80 loss: 0.38717085123062134\n",
      "epoch: 81 loss: 0.38544878363609314\n",
      "epoch: 82 loss: 0.38404688239097595\n",
      "epoch: 83 loss: 0.3826237916946411\n",
      "epoch: 84 loss: 0.38137874007225037\n",
      "epoch: 85 loss: 0.3798827528953552\n",
      "epoch: 86 loss: 0.3787153959274292\n",
      "epoch: 87 loss: 0.37739887833595276\n",
      "epoch: 88 loss: 0.4173017740249634\n",
      "epoch: 89 loss: 0.3903715908527374\n",
      "epoch: 90 loss: 0.383188396692276\n",
      "epoch: 91 loss: 0.37997475266456604\n",
      "epoch: 92 loss: 0.3780304491519928\n",
      "epoch: 93 loss: 0.37572163343429565\n",
      "epoch: 94 loss: 0.3738517761230469\n",
      "epoch: 95 loss: 0.3733234107494354\n",
      "epoch: 96 loss: 0.37125441431999207\n",
      "epoch: 97 loss: 0.3698866069316864\n",
      "epoch: 98 loss: 0.3689146339893341\n",
      "epoch: 99 loss: 0.36767351627349854\n"
     ]
    }
   ],
   "source": [
    "for epoch in range(epochs):\n",
    "    for i in range(no_of_batches):\n",
    "        # 这里有一个不好的事儿，是带顺序的。\n",
    "        x,y = HRdataset[i*batch:i*batch+batch]\n",
    "        y_pred = model(x)\n",
    "        loss = loss_fn(y_pred, y)\n",
    "        # 将model.parameters()\n",
    "        optim.zero_grad()\n",
    "        loss.backward()\n",
    "        optim.step()\n",
    "    with torch.no_grad():\n",
    "        print(\"epoch:\",epoch,\"loss:\",loss_fn(model(X),Y).data.item())\n"
   ]
  },
  {
   "cell_type": "markdown",
   "metadata": {},
   "source": [
    "## dataloader类 \n",
    "上面的已经够好了，可是解决不了顺序固定的问题，dataloader可以解决，不需要自己切片"
   ]
  },
  {
   "cell_type": "code",
   "execution_count": 142,
   "metadata": {},
   "outputs": [],
   "source": [
    "from torch.utils.data import DataLoader"
   ]
  },
  {
   "cell_type": "markdown",
   "metadata": {},
   "source": []
  },
  {
   "cell_type": "code",
   "execution_count": 143,
   "metadata": {},
   "outputs": [],
   "source": [
    "HR_ds = TensorDataset(X,Y)\n",
    "HR_dl = DataLoader(HR_ds,batch_size=batch,shuffle=True)"
   ]
  },
  {
   "cell_type": "code",
   "execution_count": 144,
   "metadata": {},
   "outputs": [
    {
     "name": "stdout",
     "output_type": "stream",
     "text": [
      "epoch: 0 loss: 0.35637837648391724\n",
      "epoch: 1 loss: 0.345561683177948\n",
      "epoch: 2 loss: 0.3360661566257477\n",
      "epoch: 3 loss: 0.32839760184288025\n",
      "epoch: 4 loss: 0.32060086727142334\n",
      "epoch: 5 loss: 0.31408563256263733\n",
      "epoch: 6 loss: 0.3048373758792877\n",
      "epoch: 7 loss: 0.2976686358451843\n",
      "epoch: 8 loss: 0.28967583179473877\n",
      "epoch: 9 loss: 0.2826271653175354\n",
      "epoch: 10 loss: 0.2768506109714508\n",
      "epoch: 11 loss: 0.26995277404785156\n",
      "epoch: 12 loss: 0.26449429988861084\n",
      "epoch: 13 loss: 0.25879815220832825\n",
      "epoch: 14 loss: 0.25391989946365356\n",
      "epoch: 15 loss: 0.25462186336517334\n",
      "epoch: 16 loss: 0.2455013543367386\n",
      "epoch: 17 loss: 0.2424476444721222\n",
      "epoch: 18 loss: 0.238833948969841\n",
      "epoch: 19 loss: 0.23658283054828644\n",
      "epoch: 20 loss: 0.23212184011936188\n",
      "epoch: 21 loss: 0.23242434859275818\n",
      "epoch: 22 loss: 0.2308107614517212\n",
      "epoch: 23 loss: 0.22689057886600494\n",
      "epoch: 24 loss: 0.2232292741537094\n",
      "epoch: 25 loss: 0.22141742706298828\n",
      "epoch: 26 loss: 0.22000618278980255\n",
      "epoch: 27 loss: 0.2183222472667694\n",
      "epoch: 28 loss: 0.21657340228557587\n",
      "epoch: 29 loss: 0.21706143021583557\n",
      "epoch: 30 loss: 0.21867617964744568\n",
      "epoch: 31 loss: 0.21317438781261444\n",
      "epoch: 32 loss: 0.21361513435840607\n",
      "epoch: 33 loss: 0.21161049604415894\n",
      "epoch: 34 loss: 0.210579514503479\n",
      "epoch: 35 loss: 0.2101382464170456\n",
      "epoch: 36 loss: 0.20975971221923828\n",
      "epoch: 37 loss: 0.20949779450893402\n",
      "epoch: 38 loss: 0.21089136600494385\n",
      "epoch: 39 loss: 0.20839554071426392\n",
      "epoch: 40 loss: 0.20724494755268097\n",
      "epoch: 41 loss: 0.2111351639032364\n",
      "epoch: 42 loss: 0.2083750069141388\n",
      "epoch: 43 loss: 0.22101406753063202\n",
      "epoch: 44 loss: 0.20741556584835052\n",
      "epoch: 45 loss: 0.20539957284927368\n",
      "epoch: 46 loss: 0.2051948606967926\n",
      "epoch: 47 loss: 0.20652194321155548\n",
      "epoch: 48 loss: 0.20573875308036804\n",
      "epoch: 49 loss: 0.20481759309768677\n",
      "epoch: 50 loss: 0.20344464480876923\n",
      "epoch: 51 loss: 0.20421698689460754\n",
      "epoch: 52 loss: 0.20360365509986877\n",
      "epoch: 53 loss: 0.20415528118610382\n",
      "epoch: 54 loss: 0.2018989473581314\n",
      "epoch: 55 loss: 0.20398040115833282\n",
      "epoch: 56 loss: 0.20252513885498047\n",
      "epoch: 57 loss: 0.20440472662448883\n",
      "epoch: 58 loss: 0.20196636021137238\n",
      "epoch: 59 loss: 0.20080691576004028\n",
      "epoch: 60 loss: 0.20018379390239716\n",
      "epoch: 61 loss: 0.20069646835327148\n",
      "epoch: 62 loss: 0.2032204419374466\n",
      "epoch: 63 loss: 0.2016264796257019\n",
      "epoch: 64 loss: 0.1986723095178604\n",
      "epoch: 65 loss: 0.20026111602783203\n",
      "epoch: 66 loss: 0.19795218110084534\n",
      "epoch: 67 loss: 0.1989404261112213\n",
      "epoch: 68 loss: 0.19956307113170624\n",
      "epoch: 69 loss: 0.19816173613071442\n",
      "epoch: 70 loss: 0.19807808101177216\n",
      "epoch: 71 loss: 0.19716225564479828\n",
      "epoch: 72 loss: 0.19652621448040009\n",
      "epoch: 73 loss: 0.19714504480361938\n",
      "epoch: 74 loss: 0.19687122106552124\n",
      "epoch: 75 loss: 0.19953148066997528\n",
      "epoch: 76 loss: 0.19576185941696167\n",
      "epoch: 77 loss: 0.19563725590705872\n",
      "epoch: 78 loss: 0.19778156280517578\n",
      "epoch: 79 loss: 0.19542020559310913\n",
      "epoch: 80 loss: 0.19484487175941467\n",
      "epoch: 81 loss: 0.19682689011096954\n",
      "epoch: 82 loss: 0.19483302533626556\n",
      "epoch: 83 loss: 0.19370277225971222\n",
      "epoch: 84 loss: 0.19496171176433563\n",
      "epoch: 85 loss: 0.19469410181045532\n",
      "epoch: 86 loss: 0.1955462396144867\n",
      "epoch: 87 loss: 0.19607675075531006\n",
      "epoch: 88 loss: 0.19474169611930847\n",
      "epoch: 89 loss: 0.19502708315849304\n",
      "epoch: 90 loss: 0.19393497705459595\n",
      "epoch: 91 loss: 0.19187447428703308\n",
      "epoch: 92 loss: 0.19150410592556\n",
      "epoch: 93 loss: 0.19128887355327606\n",
      "epoch: 94 loss: 0.19201022386550903\n",
      "epoch: 95 loss: 0.19095033407211304\n",
      "epoch: 96 loss: 0.1909090131521225\n",
      "epoch: 97 loss: 0.1978011131286621\n",
      "epoch: 98 loss: 0.19224075973033905\n",
      "epoch: 99 loss: 0.19245342910289764\n"
     ]
    }
   ],
   "source": [
    "for epoch in range(epochs):\n",
    "    for x,y in HR_dl:\n",
    "        y_pred = model(x)\n",
    "        loss = loss_fn(y_pred, y)\n",
    "        optim.zero_grad()\n",
    "        loss.backward()\n",
    "        optim.step()\n",
    "    with torch.no_grad():\n",
    "        print(\"epoch:\",epoch,\"loss:\",loss_fn(model(X),Y).data.item())\n"
   ]
  },
  {
   "cell_type": "markdown",
   "metadata": {},
   "source": [
    "## 以上代码已经很好了\n",
    "但是仍然有两个缺点：\n",
    "1.不能打印训练过程中的正确率，对应loss的变化 所以要计算模型正确率的问题\n",
    "2.解决过拟合，欠拟合的问题， 可能在train set 上好，但是在test set 上可能会很垃圾，所以要划分train， test"
   ]
  },
  {
   "cell_type": "code",
   "execution_count": 145,
   "metadata": {},
   "outputs": [],
   "source": [
    "from sklearn.model_selection import train_test_split\n",
    "train_x,test_x, train_y, test_y = train_test_split(X_data, Y_data,test_size=0.25)"
   ]
  },
  {
   "cell_type": "code",
   "execution_count": 146,
   "metadata": {},
   "outputs": [
    {
     "data": {
      "text/plain": [
       "numpy.ndarray"
      ]
     },
     "execution_count": 146,
     "metadata": {},
     "output_type": "execute_result"
    }
   ],
   "source": [
    "type(train_x)"
   ]
  },
  {
   "cell_type": "code",
   "execution_count": 147,
   "metadata": {},
   "outputs": [],
   "source": [
    "train_x = torch.from_numpy(train_x).type(torch.float32)\n",
    "train_y = torch.from_numpy(train_y).type(torch.float32)\n",
    "test_x = torch.from_numpy(test_x).type(torch.float32)\n",
    "test_y = torch.from_numpy(test_y).type(torch.float32)\n"
   ]
  },
  {
   "cell_type": "code",
   "execution_count": 148,
   "metadata": {},
   "outputs": [],
   "source": [
    "train_ds = TensorDataset(train_x,train_y)\n",
    "train_dl = DataLoader(train_ds,batch_size=batch,shuffle=True)"
   ]
  },
  {
   "cell_type": "code",
   "execution_count": 149,
   "metadata": {},
   "outputs": [],
   "source": [
    "test_ds = TensorDataset(test_x,test_y)\n",
    "# 没有必要shuffle， 可以加 但是没有意义\n",
    "test_dl = DataLoader(test_ds,batch_size=batch)"
   ]
  },
  {
   "cell_type": "markdown",
   "metadata": {},
   "source": [
    " ## 如何计算正确率"
   ]
  },
  {
   "cell_type": "code",
   "execution_count": 150,
   "metadata": {},
   "outputs": [
    {
     "data": {
      "text/plain": [
       "tensor([[1],\n",
       "        [0],\n",
       "        [1],\n",
       "        [1],\n",
       "        [0],\n",
       "        [0],\n",
       "        [0],\n",
       "        [0],\n",
       "        [0],\n",
       "        [0],\n",
       "        [0],\n",
       "        [1],\n",
       "        [1],\n",
       "        [0],\n",
       "        [0],\n",
       "        [1],\n",
       "        [0],\n",
       "        [0],\n",
       "        [1],\n",
       "        [1],\n",
       "        [1],\n",
       "        [0],\n",
       "        [0]], dtype=torch.int32)"
      ]
     },
     "execution_count": 150,
     "metadata": {},
     "output_type": "execute_result"
    }
   ],
   "source": [
    "(y_pred>0.5).type(torch.int32)"
   ]
  },
  {
   "cell_type": "markdown",
   "metadata": {},
   "source": [
    "(y_pred==labels).float().mean()"
   ]
  },
  {
   "cell_type": "code",
   "execution_count": 154,
   "metadata": {},
   "outputs": [],
   "source": [
    "def accuracy(y_pred, y_true):\n",
    "    y_pred = (y_pred>0.5).float()\n",
    "    acc = (y_pred==y_true).float().mean()\n",
    "    return acc\n",
    "    \n"
   ]
  },
  {
   "cell_type": "code",
   "execution_count": 156,
   "metadata": {},
   "outputs": [
    {
     "name": "stdout",
     "output_type": "stream",
     "text": [
      "epoch: 0 loss: 0.13660049438476562 accuracy: 0.9531514048576355\n",
      "epoch: 0 loss: 0.14784054458141327 accuracy: 0.9480000138282776\n",
      "epoch: 1 loss: 0.13425779342651367 accuracy: 0.956885039806366\n",
      "epoch: 1 loss: 0.14125746488571167 accuracy: 0.9541333317756653\n",
      "epoch: 2 loss: 0.13615725934505463 accuracy: 0.9599075317382812\n",
      "epoch: 2 loss: 0.14484205842018127 accuracy: 0.9549333453178406\n",
      "epoch: 3 loss: 0.1343972533941269 accuracy: 0.9571517705917358\n",
      "epoch: 3 loss: 0.14539027214050293 accuracy: 0.9522666931152344\n",
      "epoch: 4 loss: 0.13422666490077972 accuracy: 0.9564405679702759\n",
      "epoch: 4 loss: 0.14525920152664185 accuracy: 0.9485333561897278\n",
      "epoch: 5 loss: 0.13511523604393005 accuracy: 0.9531514048576355\n",
      "epoch: 5 loss: 0.14574949443340302 accuracy: 0.9482666850090027\n",
      "epoch: 6 loss: 0.13374224305152893 accuracy: 0.9605298042297363\n",
      "epoch: 6 loss: 0.14212313294410706 accuracy: 0.9562666416168213\n",
      "epoch: 7 loss: 0.13201026618480682 accuracy: 0.9604409337043762\n",
      "epoch: 7 loss: 0.14138095080852509 accuracy: 0.9567999839782715\n",
      "epoch: 8 loss: 0.13326960802078247 accuracy: 0.957862913608551\n",
      "epoch: 8 loss: 0.14118748903274536 accuracy: 0.9549333453178406\n",
      "epoch: 9 loss: 0.13410760462284088 accuracy: 0.9611520767211914\n",
      "epoch: 9 loss: 0.1417137086391449 accuracy: 0.9578666687011719\n",
      "epoch: 10 loss: 0.13372139632701874 accuracy: 0.957062840461731\n",
      "epoch: 10 loss: 0.14648011326789856 accuracy: 0.9490666389465332\n",
      "epoch: 11 loss: 0.1326836496591568 accuracy: 0.9583073854446411\n",
      "epoch: 11 loss: 0.14308606088161469 accuracy: 0.9522666931152344\n",
      "epoch: 12 loss: 0.13398265838623047 accuracy: 0.9564405679702759\n",
      "epoch: 12 loss: 0.14517474174499512 accuracy: 0.9501333236694336\n",
      "epoch: 13 loss: 0.1357790231704712 accuracy: 0.9554626941680908\n",
      "epoch: 13 loss: 0.14868181943893433 accuracy: 0.9472000002861023\n",
      "epoch: 14 loss: 0.1316356658935547 accuracy: 0.958751916885376\n",
      "epoch: 14 loss: 0.14295075833797455 accuracy: 0.9520000219345093\n",
      "epoch: 15 loss: 0.13195474445819855 accuracy: 0.956885039806366\n",
      "epoch: 15 loss: 0.14128175377845764 accuracy: 0.9498666524887085\n",
      "epoch: 16 loss: 0.1319638192653656 accuracy: 0.958396315574646\n",
      "epoch: 16 loss: 0.14324016869068146 accuracy: 0.9517333507537842\n",
      "epoch: 17 loss: 0.13238172233104706 accuracy: 0.958040714263916\n",
      "epoch: 17 loss: 0.14352929592132568 accuracy: 0.9495999813079834\n",
      "epoch: 18 loss: 0.13316237926483154 accuracy: 0.9596408605575562\n",
      "epoch: 18 loss: 0.14021463692188263 accuracy: 0.9575999975204468\n",
      "epoch: 19 loss: 0.13055068254470825 accuracy: 0.9588407874107361\n",
      "epoch: 19 loss: 0.13904708623886108 accuracy: 0.9544000029563904\n",
      "epoch: 20 loss: 0.13139578700065613 accuracy: 0.956707239151001\n",
      "epoch: 20 loss: 0.1396317332983017 accuracy: 0.9520000219345093\n",
      "epoch: 21 loss: 0.1311521828174591 accuracy: 0.957685112953186\n",
      "epoch: 21 loss: 0.13901261985301971 accuracy: 0.9567999839782715\n",
      "epoch: 22 loss: 0.13034602999687195 accuracy: 0.9583073854446411\n",
      "epoch: 22 loss: 0.13886785507202148 accuracy: 0.9538666605949402\n",
      "epoch: 23 loss: 0.13085009157657623 accuracy: 0.957240641117096\n",
      "epoch: 23 loss: 0.1431654691696167 accuracy: 0.9501333236694336\n",
      "epoch: 24 loss: 0.1398652046918869 accuracy: 0.9550182223320007\n",
      "epoch: 24 loss: 0.14463816583156586 accuracy: 0.9538666605949402\n",
      "epoch: 25 loss: 0.1300756186246872 accuracy: 0.957862913608551\n",
      "epoch: 25 loss: 0.14219209551811218 accuracy: 0.9520000219345093\n",
      "epoch: 26 loss: 0.12979966402053833 accuracy: 0.9584851861000061\n",
      "epoch: 26 loss: 0.13925053179264069 accuracy: 0.9546666741371155\n",
      "epoch: 27 loss: 0.1367378979921341 accuracy: 0.9557294249534607\n",
      "epoch: 27 loss: 0.14193350076675415 accuracy: 0.9530666470527649\n",
      "epoch: 28 loss: 0.1288287490606308 accuracy: 0.9595519304275513\n",
      "epoch: 28 loss: 0.13936655223369598 accuracy: 0.9538666605949402\n",
      "epoch: 29 loss: 0.12859778106212616 accuracy: 0.9600853323936462\n",
      "epoch: 29 loss: 0.13780204951763153 accuracy: 0.9557333588600159\n",
      "epoch: 30 loss: 0.13115841150283813 accuracy: 0.9584851861000061\n",
      "epoch: 30 loss: 0.13818013668060303 accuracy: 0.9554666876792908\n",
      "epoch: 31 loss: 0.1286243498325348 accuracy: 0.959374189376831\n",
      "epoch: 31 loss: 0.13932697474956512 accuracy: 0.9541333317756653\n",
      "epoch: 32 loss: 0.12920626997947693 accuracy: 0.9609743356704712\n",
      "epoch: 32 loss: 0.13927629590034485 accuracy: 0.9552000164985657\n",
      "epoch: 33 loss: 0.1285720020532608 accuracy: 0.9595519304275513\n",
      "epoch: 33 loss: 0.13703687489032745 accuracy: 0.9559999704360962\n",
      "epoch: 34 loss: 0.1401362270116806 accuracy: 0.9515512585639954\n",
      "epoch: 34 loss: 0.15836772322654724 accuracy: 0.9440000057220459\n",
      "epoch: 35 loss: 0.12851770222187042 accuracy: 0.959374189376831\n",
      "epoch: 35 loss: 0.13719521462917328 accuracy: 0.9573333263397217\n",
      "epoch: 36 loss: 0.13119620084762573 accuracy: 0.9607965350151062\n",
      "epoch: 36 loss: 0.13687138259410858 accuracy: 0.9584000110626221\n",
      "epoch: 37 loss: 0.12891186773777008 accuracy: 0.958396315574646\n",
      "epoch: 37 loss: 0.14001211524009705 accuracy: 0.9538666605949402\n",
      "epoch: 38 loss: 0.12770400941371918 accuracy: 0.9592852592468262\n",
      "epoch: 38 loss: 0.13744400441646576 accuracy: 0.9562666416168213\n",
      "epoch: 39 loss: 0.1323934942483902 accuracy: 0.9599964618682861\n",
      "epoch: 39 loss: 0.14016416668891907 accuracy: 0.9584000110626221\n",
      "epoch: 40 loss: 0.1287863552570343 accuracy: 0.959374189376831\n",
      "epoch: 40 loss: 0.1409352719783783 accuracy: 0.9517333507537842\n",
      "epoch: 41 loss: 0.1369916796684265 accuracy: 0.9597297310829163\n",
      "epoch: 41 loss: 0.14437463879585266 accuracy: 0.9554666876792908\n",
      "epoch: 42 loss: 0.12830917537212372 accuracy: 0.9591963887214661\n",
      "epoch: 42 loss: 0.13754922151565552 accuracy: 0.9552000164985657\n",
      "epoch: 43 loss: 0.1277400702238083 accuracy: 0.9581295847892761\n",
      "epoch: 43 loss: 0.1400967836380005 accuracy: 0.9522666931152344\n",
      "epoch: 44 loss: 0.13126158714294434 accuracy: 0.9583073854446411\n",
      "epoch: 44 loss: 0.1388290375471115 accuracy: 0.9554666876792908\n",
      "epoch: 45 loss: 0.128472700715065 accuracy: 0.957329511642456\n",
      "epoch: 45 loss: 0.1381329596042633 accuracy: 0.9538666605949402\n",
      "epoch: 46 loss: 0.12779395282268524 accuracy: 0.957329511642456\n",
      "epoch: 46 loss: 0.1385764628648758 accuracy: 0.9525333046913147\n",
      "epoch: 47 loss: 0.12703393399715424 accuracy: 0.9621299505233765\n",
      "epoch: 47 loss: 0.13775214552879333 accuracy: 0.9573333263397217\n",
      "epoch: 48 loss: 0.12704119086265564 accuracy: 0.958751916885376\n",
      "epoch: 48 loss: 0.13826224207878113 accuracy: 0.9538666605949402\n",
      "epoch: 49 loss: 0.12665864825248718 accuracy: 0.9596408605575562\n",
      "epoch: 49 loss: 0.135370671749115 accuracy: 0.9562666416168213\n",
      "epoch: 50 loss: 0.1260094791650772 accuracy: 0.9604409337043762\n",
      "epoch: 50 loss: 0.13491198420524597 accuracy: 0.9575999975204468\n",
      "epoch: 51 loss: 0.12840943038463593 accuracy: 0.959374189376831\n",
      "epoch: 51 loss: 0.13573794066905975 accuracy: 0.9567999839782715\n",
      "epoch: 52 loss: 0.12810255587100983 accuracy: 0.9603520035743713\n",
      "epoch: 52 loss: 0.13622158765792847 accuracy: 0.9570666551589966\n",
      "epoch: 53 loss: 0.1275719851255417 accuracy: 0.9606187343597412\n",
      "epoch: 53 loss: 0.1369338035583496 accuracy: 0.9584000110626221\n",
      "epoch: 54 loss: 0.131595641374588 accuracy: 0.9571517705917358\n",
      "epoch: 54 loss: 0.14761456847190857 accuracy: 0.9482666850090027\n",
      "epoch: 55 loss: 0.12497188150882721 accuracy: 0.9607076048851013\n",
      "epoch: 55 loss: 0.1352013796567917 accuracy: 0.958133339881897\n",
      "epoch: 56 loss: 0.12656818330287933 accuracy: 0.9616854786872864\n",
      "epoch: 56 loss: 0.13815586268901825 accuracy: 0.9541333317756653\n",
      "epoch: 57 loss: 0.12680651247501373 accuracy: 0.9604409337043762\n",
      "epoch: 57 loss: 0.1383175104856491 accuracy: 0.9559999704360962\n",
      "epoch: 58 loss: 0.12653014063835144 accuracy: 0.9595519304275513\n",
      "epoch: 58 loss: 0.1372329443693161 accuracy: 0.9557333588600159\n",
      "epoch: 59 loss: 0.1300489455461502 accuracy: 0.9569739699363708\n",
      "epoch: 59 loss: 0.14712700247764587 accuracy: 0.9482666850090027\n",
      "epoch: 60 loss: 0.1257684826850891 accuracy: 0.9598186612129211\n",
      "epoch: 60 loss: 0.13458651304244995 accuracy: 0.9559999704360962\n",
      "epoch: 61 loss: 0.12482042610645294 accuracy: 0.9599964618682861\n",
      "epoch: 61 loss: 0.13529087603092194 accuracy: 0.9557333588600159\n",
      "epoch: 62 loss: 0.12848272919654846 accuracy: 0.9599075317382812\n",
      "epoch: 62 loss: 0.14366719126701355 accuracy: 0.9520000219345093\n",
      "epoch: 63 loss: 0.12465157359838486 accuracy: 0.959374189376831\n",
      "epoch: 63 loss: 0.13524463772773743 accuracy: 0.9541333317756653\n",
      "epoch: 64 loss: 0.12572209537029266 accuracy: 0.9588407874107361\n",
      "epoch: 64 loss: 0.14009319245815277 accuracy: 0.9514666795730591\n",
      "epoch: 65 loss: 0.12910901010036469 accuracy: 0.9601742625236511\n",
      "epoch: 65 loss: 0.13680283725261688 accuracy: 0.9573333263397217\n",
      "epoch: 66 loss: 0.12432693690061569 accuracy: 0.9616854786872864\n",
      "epoch: 66 loss: 0.1369088590145111 accuracy: 0.9552000164985657\n",
      "epoch: 67 loss: 0.12373608350753784 accuracy: 0.9615966081619263\n",
      "epoch: 67 loss: 0.13394013047218323 accuracy: 0.958133339881897\n",
      "epoch: 68 loss: 0.12745732069015503 accuracy: 0.9564405679702759\n",
      "epoch: 68 loss: 0.13756497204303741 accuracy: 0.9495999813079834\n",
      "epoch: 69 loss: 0.1250942498445511 accuracy: 0.9606187343597412\n",
      "epoch: 69 loss: 0.13807539641857147 accuracy: 0.9544000029563904\n",
      "epoch: 70 loss: 0.1256135255098343 accuracy: 0.9613298773765564\n",
      "epoch: 70 loss: 0.13455379009246826 accuracy: 0.9589333534240723\n",
      "epoch: 71 loss: 0.12412369251251221 accuracy: 0.9604409337043762\n",
      "epoch: 71 loss: 0.13748733699321747 accuracy: 0.9552000164985657\n",
      "epoch: 72 loss: 0.12380675226449966 accuracy: 0.958574116230011\n",
      "epoch: 72 loss: 0.13439354300498962 accuracy: 0.9557333588600159\n",
      "epoch: 73 loss: 0.12487658113241196 accuracy: 0.9608854055404663\n",
      "epoch: 73 loss: 0.13331539928913116 accuracy: 0.9586666822433472\n",
      "epoch: 74 loss: 0.1242603287100792 accuracy: 0.9599964618682861\n",
      "epoch: 74 loss: 0.1387624889612198 accuracy: 0.95333331823349\n",
      "epoch: 75 loss: 0.1245393380522728 accuracy: 0.9612410068511963\n",
      "epoch: 75 loss: 0.13778075575828552 accuracy: 0.9549333453178406\n",
      "epoch: 76 loss: 0.12336964905261993 accuracy: 0.9608854055404663\n",
      "epoch: 76 loss: 0.13375088572502136 accuracy: 0.958133339881897\n",
      "epoch: 77 loss: 0.12314976006746292 accuracy: 0.9619521498680115\n",
      "epoch: 77 loss: 0.13287506997585297 accuracy: 0.9586666822433472\n",
      "epoch: 78 loss: 0.1228160485625267 accuracy: 0.9602631330490112\n",
      "epoch: 78 loss: 0.13458985090255737 accuracy: 0.9552000164985657\n",
      "epoch: 79 loss: 0.12396546453237534 accuracy: 0.9623077511787415\n",
      "epoch: 79 loss: 0.13431696593761444 accuracy: 0.9586666822433472\n",
      "epoch: 80 loss: 0.12397430837154388 accuracy: 0.9629300236701965\n",
      "epoch: 80 loss: 0.13370521366596222 accuracy: 0.9607999920845032\n",
      "epoch: 81 loss: 0.12251913547515869 accuracy: 0.9604409337043762\n",
      "epoch: 81 loss: 0.13388536870479584 accuracy: 0.9552000164985657\n",
      "epoch: 82 loss: 0.12313710898160934 accuracy: 0.9602631330490112\n",
      "epoch: 82 loss: 0.13645891845226288 accuracy: 0.95333331823349\n",
      "epoch: 83 loss: 0.12496215850114822 accuracy: 0.9616854786872864\n",
      "epoch: 83 loss: 0.1346472203731537 accuracy: 0.9586666822433472\n",
      "epoch: 84 loss: 0.12328806519508362 accuracy: 0.9609743356704712\n",
      "epoch: 84 loss: 0.13723628222942352 accuracy: 0.9559999704360962\n",
      "epoch: 85 loss: 0.12406591325998306 accuracy: 0.9604409337043762\n",
      "epoch: 85 loss: 0.13826309144496918 accuracy: 0.95333331823349\n",
      "epoch: 86 loss: 0.12206760048866272 accuracy: 0.9619521498680115\n",
      "epoch: 86 loss: 0.13504819571971893 accuracy: 0.9575999975204468\n",
      "epoch: 87 loss: 0.1296800822019577 accuracy: 0.9629300236701965\n",
      "epoch: 87 loss: 0.13725078105926514 accuracy: 0.958133339881897\n",
      "epoch: 88 loss: 0.12302512675523758 accuracy: 0.9591074585914612\n",
      "epoch: 88 loss: 0.1346079558134079 accuracy: 0.9544000029563904\n",
      "epoch: 89 loss: 0.1221393495798111 accuracy: 0.9608854055404663\n",
      "epoch: 89 loss: 0.132346972823143 accuracy: 0.9573333263397217\n",
      "epoch: 90 loss: 0.1242644339799881 accuracy: 0.9598186612129211\n",
      "epoch: 90 loss: 0.1402556598186493 accuracy: 0.9522666931152344\n",
      "epoch: 91 loss: 0.12408655136823654 accuracy: 0.9635522961616516\n",
      "epoch: 91 loss: 0.13371798396110535 accuracy: 0.9618666768074036\n",
      "epoch: 92 loss: 0.12487861514091492 accuracy: 0.9608854055404663\n",
      "epoch: 92 loss: 0.14045937359333038 accuracy: 0.9538666605949402\n",
      "epoch: 93 loss: 0.12235194444656372 accuracy: 0.9631078243255615\n",
      "epoch: 93 loss: 0.1364189237356186 accuracy: 0.9557333588600159\n",
      "epoch: 94 loss: 0.12186901271343231 accuracy: 0.9630189538002014\n",
      "epoch: 94 loss: 0.13621613383293152 accuracy: 0.9573333263397217\n",
      "epoch: 95 loss: 0.12340033799409866 accuracy: 0.9599964618682861\n",
      "epoch: 95 loss: 0.1396244764328003 accuracy: 0.9535999894142151\n",
      "epoch: 96 loss: 0.12157142162322998 accuracy: 0.9602631330490112\n",
      "epoch: 96 loss: 0.1322786957025528 accuracy: 0.9573333263397217\n",
      "epoch: 97 loss: 0.12526880204677582 accuracy: 0.9613298773765564\n",
      "epoch: 97 loss: 0.1424884796142578 accuracy: 0.9541333317756653\n",
      "epoch: 98 loss: 0.12247900664806366 accuracy: 0.9601742625236511\n",
      "epoch: 98 loss: 0.13559643924236298 accuracy: 0.9535999894142151\n",
      "epoch: 99 loss: 0.12384573370218277 accuracy: 0.9633744955062866\n",
      "epoch: 99 loss: 0.13448591530323029 accuracy: 0.9607999920845032\n"
     ]
    }
   ],
   "source": [
    "for epoch in range(epochs):\n",
    "    for x,y in train_dl:\n",
    "        y_pred = model(x)\n",
    "        loss = loss_fn(y_pred, y)\n",
    "        optim.zero_grad()\n",
    "        loss.backward()\n",
    "        optim.step()\n",
    "    with torch.no_grad():\n",
    "        train_pred_y = model(train_x)\n",
    "        epoch_train_accuracy = accuracy(train_pred_y,train_y)\n",
    "        print(\"epoch:\",epoch,\"loss:\",loss_fn(train_pred_y,train_y).data.item(),\"accuracy:\",epoch_train_accuracy.item())\n",
    "\n",
    "        test_pred_y = model(test_x)\n",
    "        epoch_test_accuracy = accuracy(test_pred_y,test_y)\n",
    "        print(\"epoch:\",epoch,\"loss:\",loss_fn(test_pred_y,test_y).data.item(),\"accuracy:\",epoch_test_accuracy.item())"
   ]
  }
 ],
 "metadata": {
  "kernelspec": {
   "display_name": "Python 3.9.12 ('base')",
   "language": "python",
   "name": "python3"
  },
  "language_info": {
   "codemirror_mode": {
    "name": "ipython",
    "version": 3
   },
   "file_extension": ".py",
   "mimetype": "text/x-python",
   "name": "python",
   "nbconvert_exporter": "python",
   "pygments_lexer": "ipython3",
   "version": "3.9.12"
  },
  "orig_nbformat": 4,
  "vscode": {
   "interpreter": {
    "hash": "ad2bdc8ecc057115af97d19610ffacc2b4e99fae6737bb82f5d7fb13d2f2c186"
   }
  }
 },
 "nbformat": 4,
 "nbformat_minor": 2
}
